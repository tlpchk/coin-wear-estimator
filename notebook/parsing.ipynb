{
 "cells": [
  {
   "cell_type": "code",
   "execution_count": 112,
   "metadata": {},
   "outputs": [
    {
     "name": "stdout",
     "output_type": "stream",
     "text": [
      "The autoreload extension is already loaded. To reload it, use:\n",
      "  %reload_ext autoreload\n"
     ]
    }
   ],
   "source": [
    "%load_ext autoreload\n",
    "%autoreload 2"
   ]
  },
  {
   "cell_type": "code",
   "execution_count": 113,
   "metadata": {},
   "outputs": [],
   "source": [
    "from NiemczykParser import NiemczykParser\n",
    "from MarciniakParser import MarciniakParser\n",
    "import re\n",
    "import pandas as pd\n",
    "import numpy as np"
   ]
  },
  {
   "cell_type": "code",
   "execution_count": 114,
   "metadata": {},
   "outputs": [],
   "source": [
    "def manual_check_grades(df, col, extracter, show_known=1, show_index=0, show_content=1):\n",
    "    states = []\n",
    "    for value in df[col]:\n",
    "        if pd.isna(value):\n",
    "            state = np.nan\n",
    "        else:\n",
    "            state = extracter(value)\n",
    "        if not state:\n",
    "            state = np.nan\n",
    "        states.append(state) \n",
    "    df[\"state\"] = states\n",
    "    \n",
    "    df = df.replace(r\"\\\\\", \"\\n\", regex=True)\n",
    "\n",
    "    if show_known:\n",
    "        df = df.dropna(subset=[\"state\"])\n",
    "    else:\n",
    "        df = df[df[\"state\"].isnull()]\n",
    "\n",
    "    for i, row in df.iterrows():\n",
    "        if not show_known or show_index:\n",
    "            print(i)\n",
    "        if show_known:\n",
    "            print(row[\"state\"])\n",
    "        if show_content:\n",
    "            print(row[col])\n",
    "        print(\"______________________\")"
   ]
  },
  {
   "cell_type": "markdown",
   "metadata": {},
   "source": [
    "## Title extraction"
   ]
  },
  {
   "cell_type": "code",
   "execution_count": null,
   "metadata": {},
   "outputs": [],
   "source": [
    "with pd.option_context('display.max_rows', None, 'display.max_colwidth', None):\n",
    "    print(df[\"title\"])"
   ]
  },
  {
   "cell_type": "code",
   "execution_count": null,
   "metadata": {},
   "outputs": [],
   "source": [
    "parser = NiemczykParser()\n",
    "# parser = MarciniakParser()\n",
    "df = parser.get_df(\"Sztandar 1930\")\n",
    "manual_check_grades(df, \"title\", parser.extract_from_title, show_content=1, show_known=0)"
   ]
  },
  {
   "cell_type": "markdown",
   "metadata": {},
   "source": [
    "### Custom\n",
    "\n",
    "**Niemczyk**\n",
    "\n",
    "Nr (>=0) | State\n",
    "--- | ---\n",
    " 230 | 3+/2-\n",
    "\n",
    "**Marciniak**\n",
    "\n",
    "Nr (>=0) | State\n",
    "--- | ---\n",
    " 126 | MS62\n",
    " 150 | 3/3+"
   ]
  },
  {
   "cell_type": "code",
   "execution_count": null,
   "metadata": {},
   "outputs": [],
   "source": [
    "parser = NiemczykParser()\n",
    "# parser = MarciniakParser()\n",
    "df = parser.get_df(\"Sztandar 1930\")\n",
    "df = df.dropna(subset=[\"description\"])\n",
    "manual_check_grades(df, \"description\", parser.extract_from_description, show_content=1, show_known=0)"
   ]
  },
  {
   "cell_type": "markdown",
   "metadata": {},
   "source": [
    "### Custom\n",
    "\n",
    "**Niemczyk**\n",
    "\n",
    "Nr (>=0) | State\n",
    "--- | ---\n",
    "202 | MS 62\n",
    "215 | MS63\n",
    "\n",
    "**Marciniak**\n",
    "\n",
    "Nr (>=0) | State\n",
    "--- | ---\n",
    "12 | 3+/2\n",
    "78 | AU58\n"
   ]
  },
  {
   "cell_type": "markdown",
   "metadata": {},
   "source": [
    "## Result"
   ]
  },
  {
   "cell_type": "code",
   "execution_count": 115,
   "metadata": {},
   "outputs": [
    {
     "data": {
      "text/html": "<div>\n<style scoped>\n    .dataframe tbody tr th:only-of-type {\n        vertical-align: middle;\n    }\n\n    .dataframe tbody tr th {\n        vertical-align: top;\n    }\n\n    .dataframe thead th {\n        text-align: right;\n    }\n</style>\n<table border=\"1\" class=\"dataframe\">\n  <thead>\n    <tr style=\"text-align: right;\">\n      <th></th>\n      <th>link</th>\n      <th>title_state</th>\n      <th>description_state</th>\n    </tr>\n  </thead>\n  <tbody>\n    <tr>\n      <th>0</th>\n      <td>https://aukcje.gndm.pl/pl/auction/1482/id/8146...</td>\n      <td>NaN</td>\n      <td>2</td>\n    </tr>\n    <tr>\n      <th>1</th>\n      <td>https://aukcje.gndm.pl/pl/auction/1236/lot/333...</td>\n      <td>NaN</td>\n      <td>2</td>\n    </tr>\n    <tr>\n      <th>2</th>\n      <td>https://aukcje.gndm.pl/pl/auction/1236/lot/333...</td>\n      <td>NaN</td>\n      <td>1-</td>\n    </tr>\n    <tr>\n      <th>3</th>\n      <td>https://aukcje.gndm.pl/pl/auction/996/lot/3336...</td>\n      <td>NaN</td>\n      <td>NGC UNC</td>\n    </tr>\n    <tr>\n      <th>4</th>\n      <td>https://aukcje.gndm.pl/pl/auction/996/lot/3337...</td>\n      <td>NaN</td>\n      <td>2</td>\n    </tr>\n    <tr>\n      <th>...</th>\n      <td>...</td>\n      <td>...</td>\n      <td>...</td>\n    </tr>\n    <tr>\n      <th>158</th>\n      <td>https://aukcje.gndm.pl/pl/auction/1000066/id/5...</td>\n      <td>3</td>\n      <td>NaN</td>\n    </tr>\n    <tr>\n      <th>159</th>\n      <td>https://aukcje.gndm.pl/pl/auction/1000066/id/5...</td>\n      <td>3+</td>\n      <td>NaN</td>\n    </tr>\n    <tr>\n      <th>160</th>\n      <td>https://aukcje.gndm.pl/pl/auction/1000066/id/5...</td>\n      <td>NGC AU 55</td>\n      <td>NaN</td>\n    </tr>\n    <tr>\n      <th>161</th>\n      <td>https://aukcje.gndm.pl/pl/auction/1000066/id/4...</td>\n      <td>NaN</td>\n      <td>NaN</td>\n    </tr>\n    <tr>\n      <th>162</th>\n      <td>https://aukcje.gndm.pl/pl/auction/1000066/id/4...</td>\n      <td>GCN AU 53</td>\n      <td>NaN</td>\n    </tr>\n  </tbody>\n</table>\n<p>163 rows × 3 columns</p>\n</div>",
      "text/plain": "                                                  link title_state  \\\n0    https://aukcje.gndm.pl/pl/auction/1482/id/8146...         NaN   \n1    https://aukcje.gndm.pl/pl/auction/1236/lot/333...         NaN   \n2    https://aukcje.gndm.pl/pl/auction/1236/lot/333...         NaN   \n3    https://aukcje.gndm.pl/pl/auction/996/lot/3336...         NaN   \n4    https://aukcje.gndm.pl/pl/auction/996/lot/3337...         NaN   \n..                                                 ...         ...   \n158  https://aukcje.gndm.pl/pl/auction/1000066/id/5...           3   \n159  https://aukcje.gndm.pl/pl/auction/1000066/id/5...          3+   \n160  https://aukcje.gndm.pl/pl/auction/1000066/id/5...   NGC AU 55   \n161  https://aukcje.gndm.pl/pl/auction/1000066/id/4...         NaN   \n162  https://aukcje.gndm.pl/pl/auction/1000066/id/4...   GCN AU 53   \n\n    description_state  \n0                   2  \n1                   2  \n2                  1-  \n3             NGC UNC  \n4                   2  \n..                ...  \n158               NaN  \n159               NaN  \n160               NaN  \n161               NaN  \n162               NaN  \n\n[163 rows x 3 columns]"
     },
     "execution_count": 115,
     "metadata": {},
     "output_type": "execute_result"
    }
   ],
   "source": [
    "keyword = \"Sztandar 1930\"\n",
    "NiemczykParser().get_df_with_states(keyword)\n",
    "MarciniakParser().get_df_with_states(keyword)"
   ]
  }
 ],
 "metadata": {
  "kernelspec": {
   "display_name": "Python 3.8.7 64-bit",
   "name": "python387jvsc74a57bd07e85ec9bf098c5427e45e2f632dcd4eeff803b007e1abd287d600879388709c1"
  },
  "language_info": {
   "codemirror_mode": {
    "name": "ipython",
    "version": 3
   },
   "file_extension": ".py",
   "mimetype": "text/x-python",
   "name": "python",
   "nbconvert_exporter": "python",
   "pygments_lexer": "ipython3",
   "version": "3.8.7"
  },
  "metadata": {
   "interpreter": {
    "hash": "7e85ec9bf098c5427e45e2f632dcd4eeff803b007e1abd287d600879388709c1"
   }
  },
  "orig_nbformat": 2
 },
 "nbformat": 4,
 "nbformat_minor": 2
}