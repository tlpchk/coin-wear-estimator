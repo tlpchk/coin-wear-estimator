{
 "cells": [
  {
   "cell_type": "code",
   "execution_count": 22,
   "id": "b84cb9db",
   "metadata": {},
   "outputs": [
    {
     "name": "stdout",
     "output_type": "stream",
     "text": [
      "The autoreload extension is already loaded. To reload it, use:\n",
      "  %reload_ext autoreload\n"
     ]
    }
   ],
   "source": [
    "%load_ext autoreload\n",
    "%autoreload 2\n",
    "\n",
    "import numpy as np\n",
    "import pandas as pd\n",
    "import json"
   ]
  },
  {
   "cell_type": "code",
   "execution_count": 23,
   "id": "04597234",
   "metadata": {},
   "outputs": [],
   "source": [
    "def results_df(i, models = [\"SVM\", \"KNN\", \"RF\", \"LR\"], param_n = [8, 16, 24, 32, 64, 96, 128]):\n",
    "    results_filename = '../results/{}_out.txt'.format(i)\n",
    "    df_dict = {model: pd.DataFrame() for model in models}\n",
    "\n",
    "    with open(results_filename, 'r') as f:   \n",
    "        df = pd.DataFrame(columns=[\"train\", \"test\"])\n",
    "\n",
    "        for line in f.readlines():\n",
    "            \n",
    "            if line.strip().lstrip('=') in models:\n",
    "                model = line.strip().lstrip('=')\n",
    "                master_df = df_dict[model]\n",
    "\n",
    "            elif line.startswith(\"{\"):\n",
    "                params = line.replace(\"'\", \"\\\"\")\n",
    "                params = json.loads(params)\n",
    "                df = df.append(params, ignore_index=True)\n",
    "\n",
    "            elif line.startswith(\"n=\"):\n",
    "                train, test = line.split(\"-->\")[1].split(\"/\")\n",
    "                train, test = \"%.2f\" % float(train), \"%.2f\" % float(test)\n",
    "                train, test = train.strip('0').rstrip('.'), test.strip('0').rstrip('.')         \n",
    "                df.loc[len(df)-1,[\"train\", \"test\"]] = [train, test]\n",
    "\n",
    "                if len(df) == len(param_n):\n",
    "                    df[\"k\"] = param_n\n",
    "                    master_df = master_df.append(df, ignore_index=True)\n",
    "                    df_dict[model] = master_df\n",
    "                    df = pd.DataFrame(columns=[\"train\", \"test\"])\n",
    "\n",
    "    master_df = df_dict[\"SVM\"]\n",
    "    master_df = master_df.drop(['class_weight'], axis=1)\n",
    "    master_df['gamma'] = master_df['gamma'].apply(lambda x: \"%.3f\" % x)\n",
    "    master_df = master_df.rename(columns={'gamma': '$\\gamma$'})\n",
    "    df_dict[\"SVM\"] = master_df          \n",
    "\n",
    "    master_df = df_dict[\"KNN\"]\n",
    "    master_df['metric'] = master_df['metric'].apply(lambda x: x[0].upper())\n",
    "    master_df['weights'] = master_df['weights'].apply(lambda x: x[0].upper())\n",
    "    master_df = master_df.rename(columns={'n_neighbors': 'n'})\n",
    "    master_df['n'] = master_df['n'].astype('int')\n",
    "    df_dict[\"KNN\"] = master_df\n",
    "\n",
    "    master_df = df_dict[\"RF\"]\n",
    "    master_df = master_df.rename(columns={'ccp_alpha': '$\\\\alpha$', 'class_weight': 'weights', 'n_estimators': 'n'})\n",
    "    master_df['weights'] = master_df['weights'].apply(lambda x: \"\".join([i[0].upper() for i in x.split(\"_\")]))\n",
    "    master_df['criterion'] = master_df['criterion'].apply(lambda x: x[0].upper())\n",
    "    master_df['n'] = master_df['n'].astype('int')\n",
    "    df_dict[\"RF\"] = master_df\n",
    "\n",
    "    master_df = df_dict[\"LR\"]\n",
    "    master_df = master_df.drop(['class_weight'], axis=1)\n",
    "    df_dict[\"LR\"] = master_df\n",
    "    \n",
    "    return df_dict"
   ]
  },
  {
   "cell_type": "code",
   "execution_count": 31,
   "id": "c8dac72d",
   "metadata": {},
   "outputs": [],
   "source": [
    "def results_latex_table(i, model_1, model_2, df_dict, param_n = [8, 16, 24, 32, 64, 96, 128]):\n",
    "    master_df_1 = df_dict[model_1].copy()\n",
    "    master_df_2 = df_dict[model_2].copy()\n",
    "    master_df_1.drop([\"k\"], inplace=True, axis=1)\n",
    " \n",
    "    master_df = master_df_1.join(master_df_2, lsuffix='_1', rsuffix='_2')\n",
    "    master_df[\"№\"] = np.hstack([[i]+[\"\"]*(len(param_n)-1) for i in range(1, len(master_df) // len(param_n) + 1)])\n",
    "    cols = master_df.columns.tolist()\n",
    "    master_df = master_df[cols[-2:][::-1] + cols[:-2]]\n",
    "\n",
    "    c1 = len(master_df_1.columns)\n",
    "    c2 = len(master_df_2.columns)-1\n",
    "\n",
    "    table = master_df.to_latex(index=False,\n",
    "                               column_format='|c|c|{}||{}|'.format('c'*c1,'c'*c2),\n",
    "                               escape=False,\n",
    "                               header = [c.rstrip(\"_12\") for c in master_df.columns],\n",
    "                               caption = \"{} and {} parameters for experiments {}.\".format(model_1, model_2, i),\n",
    "                               label = \"tab:params_{}_{}_{}\".format(i, model_1.lower(), model_2.lower())\n",
    "                              )\n",
    "\n",
    "    table = table.replace(\"\\\\toprule\\n\", \"& & \\multicolumn{%d}{c||}{\\\\underline{%s}} & \\multicolumn{%d}{c|}{\\\\underline{%s}}\\\\\\\\\\n\" % (c1, model_1, c2, model_2))\n",
    "    table = table.replace(\"\\\\midrule\\n\", \"\")\n",
    "    table = table.replace(\"\\\\bottomrule\\n\", \"\")\n",
    "\n",
    "    table = table.split(\"\\n\")\n",
    "    table[4] += \"\\\\hline\"\n",
    "    for i in range(len(table)):\n",
    "        if (i-6) % 7 == 0:\n",
    "            table[i] += \"\\\\hline\"\n",
    "    table = \"\\n\".join(table)\n",
    "    return table"
   ]
  },
  {
   "cell_type": "code",
   "execution_count": 33,
   "id": "2802a7e5",
   "metadata": {},
   "outputs": [],
   "source": [
    "for i in range(1,5):\n",
    "# for i in range(1,2):\n",
    "    df_dict = results_df(i)\n",
    "    with open(\"../tex/{}_1.tex\".format(i), \"w\") as text_file:\n",
    "        text_file.write(\n",
    "            results_latex_table(i, \"SVM\", \"KNN\", df_dict)\n",
    "        )\n",
    "        \n",
    "    with open(\"../tex/{}_2.tex\".format(i), \"w\") as text_file:\n",
    "        text_file.write(\n",
    "            results_latex_table(i, \"RF\", \"LR\", df_dict)\n",
    "        )       "
   ]
  },
  {
   "cell_type": "code",
   "execution_count": 43,
   "id": "cde21890",
   "metadata": {},
   "outputs": [],
   "source": [
    "stat_df = pd.DataFrame(columns=[\"SVM\", \"KNN\", \"RF\", \"LR\"])\n",
    "for i in range(1,5):\n",
    "    df_dict = results_df(1)\n",
    "    temp_stat_df = pd.DataFrame()\n",
    "    for model in df_dict.keys():\n",
    "        temp_stat_df[model] = df_dict[model][\"test\"]\n",
    "    stat_df = stat_df.append(temp_stat_df, ignore_index=True)\n",
    "\n",
    "stat_df.to_csv(\"test.csv\")"
   ]
  },
  {
   "cell_type": "code",
   "execution_count": null,
   "id": "db60401a",
   "metadata": {},
   "outputs": [],
   "source": []
  }
 ],
 "metadata": {
  "kernelspec": {
   "display_name": "coin-wear",
   "language": "python",
   "name": "coin-wear"
  },
  "language_info": {
   "codemirror_mode": {
    "name": "ipython",
    "version": 3
   },
   "file_extension": ".py",
   "mimetype": "text/x-python",
   "name": "python",
   "nbconvert_exporter": "python",
   "pygments_lexer": "ipython3",
   "version": "3.9.5"
  }
 },
 "nbformat": 4,
 "nbformat_minor": 5
}
