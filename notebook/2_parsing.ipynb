{
 "cells": [
  {
   "cell_type": "code",
   "execution_count": null,
   "metadata": {},
   "outputs": [],
   "source": [
    "%load_ext autoreload\n",
    "%autoreload 2"
   ]
  },
  {
   "cell_type": "code",
   "execution_count": null,
   "metadata": {},
   "outputs": [],
   "source": [
    "import sys\n",
    "sys.path.append(\"..\")\n",
    "from src.parser.MarciniakParser import MarciniakParser\n",
    "from src.parser.NiemczykParser import NiemczykParser\n",
    "from src.utils import metadata_path, NIEMCZYK_DATASET_PATH, MARCINIAK_DATASET_PATH, ROOT_PATH\n",
    "import re\n",
    "from textwrap import wrap, fill\n",
    "import pandas as pd\n",
    "import numpy as np"
   ]
  },
  {
   "cell_type": "code",
   "execution_count": null,
   "metadata": {},
   "outputs": [],
   "source": [
    "def manual_check_grades(df, col, extracter, show_known=1, show_index=0, show_content=1):\n",
    "    states = []\n",
    "    for value in df[col]:\n",
    "        if pd.isna(value):\n",
    "            state = np.nan\n",
    "        else:\n",
    "            state = extracter(value)\n",
    "        if not state:\n",
    "            state = np.nan\n",
    "        states.append(state) \n",
    "    df[\"state\"] = states\n",
    "    \n",
    "    df = df.replace(r\"\\\\\", \"\\n\", regex=True)\n",
    "\n",
    "    if show_known:\n",
    "        df = df.dropna(subset=[\"state\"])\n",
    "    else:\n",
    "        df = df[df[\"state\"].isnull()]\n",
    "\n",
    "    for i, row in df.iterrows():\n",
    "        if not show_known or show_index:\n",
    "            print(i)\n",
    "        if show_known:\n",
    "            print(row[\"state\"])\n",
    "        if show_content:\n",
    "            print(fill(row[col], width=90, replace_whitespace=False))\n",
    "        print(\"______________________\")"
   ]
  },
  {
   "cell_type": "markdown",
   "metadata": {},
   "source": [
    "## Title extraction"
   ]
  },
  {
   "cell_type": "code",
   "execution_count": null,
   "metadata": {},
   "outputs": [],
   "source": [
    "parser = NiemczykParser()\n",
    "# parser = MarciniakParser()\n",
    "df = parser.get_df(\"Sztandar 1930\")\n",
    "manual_check_grades(df, \"title\", parser.extract_from_title, show_content=1, show_known=0)"
   ]
  },
  {
   "cell_type": "code",
   "execution_count": null,
   "metadata": {},
   "outputs": [],
   "source": [
    "with pd.option_context('display.max_rows', None, 'display.max_colwidth', None):\n",
    "    print(df[\"title\"])"
   ]
  },
  {
   "cell_type": "markdown",
   "metadata": {},
   "source": [
    "### Custom\n",
    "\n",
    "**Niemczyk**\n",
    "\n",
    "Nr (>=0) | State\n",
    "--- | ---\n",
    " 230 | 3+/2-\n",
    "\n",
    "**Marciniak**\n",
    "\n",
    "Nr (>=0) | State\n",
    "--- | ---\n",
    " 126 | NGC MS62\n",
    " 150 | 3/3+"
   ]
  },
  {
   "cell_type": "markdown",
   "metadata": {},
   "source": [
    "## Description extraction"
   ]
  },
  {
   "cell_type": "code",
   "execution_count": null,
   "metadata": {},
   "outputs": [],
   "source": [
    "# parser = NiemczykParser()\n",
    "parser = MarciniakParser()\n",
    "df = parser.get_df(\"Sztandar 1930\")\n",
    "df = df.dropna(subset=[\"description\"])\n",
    "manual_check_grades(df, \"description\", parser.extract_from_description, show_content=1, show_known=0)"
   ]
  },
  {
   "cell_type": "markdown",
   "metadata": {},
   "source": [
    "### Custom\n",
    "\n",
    "**Niemczyk**\n",
    "\n",
    "Nr (>=0) | State\n",
    "--- | ---\n",
    "202 | NGC MS62\n",
    "215 | NGC MS63\n",
    "\n",
    "**Marciniak**\n",
    "\n",
    "Nr (>=0) | State\n",
    "--- | ---\n",
    "12 | 3+/2\n",
    "42 | AU55\n",
    "78 | AU58\n"
   ]
  },
  {
   "cell_type": "markdown",
   "metadata": {},
   "source": [
    "## Result"
   ]
  },
  {
   "cell_type": "code",
   "execution_count": null,
   "metadata": {},
   "outputs": [],
   "source": [
    "keyword = \"Sztandar 1930\"\n",
    "# df = NiemczykParser().get_df_with_states(keyword)\n",
    "df = MarciniakParser().get_df_with_states(keyword)\n",
    "df"
   ]
  },
  {
   "cell_type": "code",
   "execution_count": null,
   "metadata": {},
   "outputs": [],
   "source": [
    "def coins_with_no_grade(df):\n",
    "    df = df[df[\"title_state\"].isna() & df[\"description_state\"].isna()]\n",
    "    return df \n",
    "\n",
    "def coins_with_ambiguity(df):\n",
    "    df = df[df[\"title_state\"].str.replace(\" \",\"\") != df[\"description_state\"].str.replace(\" \",\"\")]\n",
    "    df = df[df[\"title_state\"].notna() & df[\"description_state\"].notna()]\n",
    "    return dff[\"title_state\"].notna() & df[\"description_state\"].notna()]\n",
    "    return df"
   ]
  },
  {
   "cell_type": "code",
   "execution_count": null,
   "metadata": {},
   "outputs": [],
   "source": [
    "coins_with_no_grade(df)"
   ]
  },
  {
   "cell_type": "code",
   "execution_count": null,
   "metadata": {},
   "outputs": [],
   "source": [
    "coins_with_ambiguity(df)"
   ]
  }
 ],
 "metadata": {
  "kernelspec": {
   "display_name": "coin-wear-env",
   "language": "python",
   "name": "coin-wear-env"
  },
  "language_info": {
   "name": "python",
   "version": ""
  },
  "metadata": {
   "interpreter": {
    "hash": "767d51c1340bd893661ea55ea3124f6de3c7a262a8b4abca0554b478b1e2ff90"
   }
  },
  "orig_nbformat": 2
 },
 "nbformat": 4,
 "nbformat_minor": 2
}