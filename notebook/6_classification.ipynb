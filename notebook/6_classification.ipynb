{
 "cells": [
  {
   "cell_type": "markdown",
   "metadata": {},
   "source": [
    "# Imports and constants"
   ]
  },
  {
   "cell_type": "code",
   "execution_count": 1,
   "metadata": {},
   "outputs": [],
   "source": [
    "%load_ext autoreload\n",
    "%autoreload 2"
   ]
  },
  {
   "cell_type": "code",
   "execution_count": 2,
   "metadata": {},
   "outputs": [],
   "source": [
    "import sys\n",
    "sys.path.append(\"..\")\n",
    "from src.utils import *"
   ]
  },
  {
   "cell_type": "code",
   "execution_count": 43,
   "metadata": {},
   "outputs": [],
   "source": [
    "import pandas as pd\n",
    "import seaborn as sns\n",
    "import numpy as np"
   ]
  },
  {
   "cell_type": "code",
   "execution_count": 78,
   "metadata": {},
   "outputs": [],
   "source": [
    "# DATASET_PATH = NIEMCZYK_DATASET_PATH\n",
    "DATASET_PATH = MARCINIAK_DATASET_PATH"
   ]
  },
  {
   "cell_type": "markdown",
   "metadata": {},
   "source": [
    "# Labels preparation"
   ]
  },
  {
   "cell_type": "code",
   "execution_count": 69,
   "metadata": {},
   "outputs": [],
   "source": [
    "def coins_with_no_grade(df):\n",
    "    df = df[df[\"title_state\"].isna() & df[\"description_state\"].isna()]\n",
    "    return df \n",
    "\n",
    "def coins_with_ambiguity(df):\n",
    "    df = df[df[\"title_state\"].str.replace(\" \",\"\") != df[\"description_state\"].str.replace(\" \",\"\")]\n",
    "    df = df[df[\"title_state\"].notna() & df[\"description_state\"].notna()]\n",
    "    return df\n",
    "\n",
    "def unify_states(df):\n",
    "    df = df[~df.index.isin(coins_with_no_grade(df).index)]\n",
    "    df = df[~df.index.isin(coins_with_ambiguity(df).index)]\n",
    "    df[\"state\"] = df[\"title_state\"]\n",
    "    df.loc[df[\"state\"].isna(), \"state\"] = df[\"description_state\"]\n",
    "    df.drop([\"description_state\", \"title_state\"], axis=1, inplace = True)\n",
    "    return df\n",
    "\n",
    "def find_nearest(array, value):\n",
    "    array = np.asarray(array)\n",
    "    idx = (np.abs(array - value)).argmin()\n",
    "    return array[idx]\n",
    "\n",
    "def get_nearest_category_value(grade, categories=[\"1\", \"2\", \"3\"]):\n",
    "    basic_grading_dict_inv = {v: k for k, v in basic_grading_dict.items()}\n",
    "    categories_in_sheldon = [basic_grading_dict[cat] for cat in categories]\n",
    "    nearest_sheldon_value = find_nearest(categories_in_sheldon, grade)\n",
    "    return basic_grading_dict_inv[nearest_sheldon_value]\n",
    "\n",
    "def get_labels"
   ]
  },
  {
   "cell_type": "code",
   "execution_count": 80,
   "metadata": {},
   "outputs": [
    {
     "data": {
      "text/html": "<div>\n<style scoped>\n    .dataframe tbody tr th:only-of-type {\n        vertical-align: middle;\n    }\n\n    .dataframe tbody tr th {\n        vertical-align: top;\n    }\n\n    .dataframe thead th {\n        text-align: right;\n    }\n</style>\n<table border=\"1\" class=\"dataframe\">\n  <thead>\n    <tr style=\"text-align: right;\">\n      <th></th>\n      <th>date</th>\n      <th>description</th>\n      <th>images</th>\n      <th>link</th>\n      <th>title</th>\n      <th>state</th>\n      <th>sheldon</th>\n      <th>category</th>\n    </tr>\n  </thead>\n  <tbody>\n    <tr>\n      <th>0</th>\n      <td>12 czerwca, 10:00</td>\n      <td>Opis pozycji\\Stan zachowania: 2\\Literatura: Ch...</td>\n      <td>['https://img1.onebid.pl/img/1482/433119_1b.jp...</td>\n      <td>https://aukcje.gndm.pl/pl/auction/1482/id/8146...</td>\n      <td>Sztandar 5 złotych 1930</td>\n      <td>2</td>\n      <td>52.0</td>\n      <td>2</td>\n    </tr>\n    <tr>\n      <th>1</th>\n      <td>06 lutego 2021</td>\n      <td>Opis pozycji\\Stan zachowania: 2\\Literatura: Ch...</td>\n      <td>['https://img1.onebid.pl/img/1236/386388_1b.jp...</td>\n      <td>https://aukcje.gndm.pl/pl/auction/1236/lot/333...</td>\n      <td>Sztandar 5 złotych 1930 - GŁĘBOKI</td>\n      <td>2</td>\n      <td>52.0</td>\n      <td>2</td>\n    </tr>\n    <tr>\n      <th>2</th>\n      <td>06 lutego 2021</td>\n      <td>Opis pozycji\\Stan zachowania: 1-\\Literatura: C...</td>\n      <td>['https://img1.onebid.pl/img/1236/330188_1b.jp...</td>\n      <td>https://aukcje.gndm.pl/pl/auction/1236/lot/333...</td>\n      <td>Sztandar 5 złotych 1930</td>\n      <td>1-</td>\n      <td>61.0</td>\n      <td>1-</td>\n    </tr>\n    <tr>\n      <th>3</th>\n      <td>03 października 2020</td>\n      <td>Opis pozycji\\Stan zachowania: NGC UNC\\Literatu...</td>\n      <td>['https://img1.onebid.pl/img/996/261269_1b.jpg...</td>\n      <td>https://aukcje.gndm.pl/pl/auction/996/lot/3336...</td>\n      <td>Sztandar 5 złotych 1930</td>\n      <td>NGC UNC</td>\n      <td>70.0</td>\n      <td>1</td>\n    </tr>\n    <tr>\n      <th>4</th>\n      <td>03 października 2020</td>\n      <td>Opis pozycji\\Stan zachowania: 2\\Literatura: Ch...</td>\n      <td>['https://img1.onebid.pl/img/996/287431_1b.jpg...</td>\n      <td>https://aukcje.gndm.pl/pl/auction/996/lot/3337...</td>\n      <td>Sztandar 5 złotych 1930</td>\n      <td>2</td>\n      <td>52.0</td>\n      <td>2</td>\n    </tr>\n    <tr>\n      <th>...</th>\n      <td>...</td>\n      <td>...</td>\n      <td>...</td>\n      <td>...</td>\n      <td>...</td>\n      <td>...</td>\n      <td>...</td>\n      <td>...</td>\n    </tr>\n    <tr>\n      <th>157</th>\n      <td>08 marca 2010, 21:42</td>\n      <td>Opis pozycji\\Estymacje: 0 EUR | 1 PLN\\\\\\Nr poz...</td>\n      <td>['https://img1.onebid.pl/img/1000066/429009701...</td>\n      <td>https://aukcje.gndm.pl/pl/auction/1000066/id/5...</td>\n      <td>4254. 5 zł 1930 Sztandar, NGC AU details</td>\n      <td>NGC AU</td>\n      <td>52.0</td>\n      <td>2</td>\n    </tr>\n    <tr>\n      <th>158</th>\n      <td>16 lutego 2010, 13:00</td>\n      <td>Opis pozycji\\Estymacje: 0 EUR | 1 PLN\\\\\\Nr poz...</td>\n      <td>['https://img1.onebid.pl/img/1000066/429009599...</td>\n      <td>https://aukcje.gndm.pl/pl/auction/1000066/id/5...</td>\n      <td>1019. 5 zł 1930 Sztandar, st.3</td>\n      <td>3</td>\n      <td>35.0</td>\n      <td>3</td>\n    </tr>\n    <tr>\n      <th>159</th>\n      <td>12 grudnia 2009, 21:36</td>\n      <td>Opis pozycji\\Estymacje: 0 EUR | 1 PLN\\\\\\Nr poz...</td>\n      <td>['https://img1.onebid.pl/img/1000066/429010378...</td>\n      <td>https://aukcje.gndm.pl/pl/auction/1000066/id/5...</td>\n      <td>1565. 5 zł 1930 Sztandar, st.3+</td>\n      <td>3+</td>\n      <td>42.0</td>\n      <td>2-</td>\n    </tr>\n    <tr>\n      <th>160</th>\n      <td>17 grudnia 2008, 21:45</td>\n      <td>Opis pozycji\\Estymacje: 0 EUR | 1 PLN\\\\\\Nr poz...</td>\n      <td>['https://img1.onebid.pl/img/1000066/429009072...</td>\n      <td>https://aukcje.gndm.pl/pl/auction/1000066/id/5...</td>\n      <td>3545. 5 zł 1930, Sztandar - NGC AU 55</td>\n      <td>NGC AU 55</td>\n      <td>55.0</td>\n      <td>2</td>\n    </tr>\n    <tr>\n      <th>162</th>\n      <td>08 lipca 2008, 21:50</td>\n      <td>Opis pozycji\\Estymacje: 0 EUR | 1 PLN\\\\\\Nr poz...</td>\n      <td>['https://img1.onebid.pl/img/1000066/429008029...</td>\n      <td>https://aukcje.gndm.pl/pl/auction/1000066/id/4...</td>\n      <td>2076. 5 zł 1930 - SZTANDAR - GCN AU 53</td>\n      <td>GCN AU 53</td>\n      <td>53.0</td>\n      <td>2</td>\n    </tr>\n  </tbody>\n</table>\n<p>156 rows × 8 columns</p>\n</div>",
      "text/plain": "                       date  \\\n0         12 czerwca, 10:00   \n1            06 lutego 2021   \n2            06 lutego 2021   \n3      03 października 2020   \n4      03 października 2020   \n..                      ...   \n157    08 marca 2010, 21:42   \n158   16 lutego 2010, 13:00   \n159  12 grudnia 2009, 21:36   \n160  17 grudnia 2008, 21:45   \n162    08 lipca 2008, 21:50   \n\n                                           description  \\\n0    Opis pozycji\\Stan zachowania: 2\\Literatura: Ch...   \n1    Opis pozycji\\Stan zachowania: 2\\Literatura: Ch...   \n2    Opis pozycji\\Stan zachowania: 1-\\Literatura: C...   \n3    Opis pozycji\\Stan zachowania: NGC UNC\\Literatu...   \n4    Opis pozycji\\Stan zachowania: 2\\Literatura: Ch...   \n..                                                 ...   \n157  Opis pozycji\\Estymacje: 0 EUR | 1 PLN\\\\\\Nr poz...   \n158  Opis pozycji\\Estymacje: 0 EUR | 1 PLN\\\\\\Nr poz...   \n159  Opis pozycji\\Estymacje: 0 EUR | 1 PLN\\\\\\Nr poz...   \n160  Opis pozycji\\Estymacje: 0 EUR | 1 PLN\\\\\\Nr poz...   \n162  Opis pozycji\\Estymacje: 0 EUR | 1 PLN\\\\\\Nr poz...   \n\n                                                images  \\\n0    ['https://img1.onebid.pl/img/1482/433119_1b.jp...   \n1    ['https://img1.onebid.pl/img/1236/386388_1b.jp...   \n2    ['https://img1.onebid.pl/img/1236/330188_1b.jp...   \n3    ['https://img1.onebid.pl/img/996/261269_1b.jpg...   \n4    ['https://img1.onebid.pl/img/996/287431_1b.jpg...   \n..                                                 ...   \n157  ['https://img1.onebid.pl/img/1000066/429009701...   \n158  ['https://img1.onebid.pl/img/1000066/429009599...   \n159  ['https://img1.onebid.pl/img/1000066/429010378...   \n160  ['https://img1.onebid.pl/img/1000066/429009072...   \n162  ['https://img1.onebid.pl/img/1000066/429008029...   \n\n                                                  link  \\\n0    https://aukcje.gndm.pl/pl/auction/1482/id/8146...   \n1    https://aukcje.gndm.pl/pl/auction/1236/lot/333...   \n2    https://aukcje.gndm.pl/pl/auction/1236/lot/333...   \n3    https://aukcje.gndm.pl/pl/auction/996/lot/3336...   \n4    https://aukcje.gndm.pl/pl/auction/996/lot/3337...   \n..                                                 ...   \n157  https://aukcje.gndm.pl/pl/auction/1000066/id/5...   \n158  https://aukcje.gndm.pl/pl/auction/1000066/id/5...   \n159  https://aukcje.gndm.pl/pl/auction/1000066/id/5...   \n160  https://aukcje.gndm.pl/pl/auction/1000066/id/5...   \n162  https://aukcje.gndm.pl/pl/auction/1000066/id/4...   \n\n                                        title      state  sheldon category  \n0                     Sztandar 5 złotych 1930          2     52.0        2  \n1           Sztandar 5 złotych 1930 - GŁĘBOKI          2     52.0        2  \n2                     Sztandar 5 złotych 1930         1-     61.0       1-  \n3                     Sztandar 5 złotych 1930    NGC UNC     70.0        1  \n4                     Sztandar 5 złotych 1930          2     52.0        2  \n..                                        ...        ...      ...      ...  \n157  4254. 5 zł 1930 Sztandar, NGC AU details    NGC AU      52.0        2  \n158            1019. 5 zł 1930 Sztandar, st.3          3     35.0        3  \n159           1565. 5 zł 1930 Sztandar, st.3+         3+     42.0       2-  \n160     3545. 5 zł 1930, Sztandar - NGC AU 55  NGC AU 55     55.0        2  \n162    2076. 5 zł 1930 - SZTANDAR - GCN AU 53  GCN AU 53     53.0        2  \n\n[156 rows x 8 columns]"
     },
     "execution_count": 80,
     "metadata": {},
     "output_type": "execute_result"
    },
    {
     "data": {
      "image/png": "[encoded data removed]",
      "text/plain": "<Figure size 432x288 with 1 Axes>"
     },
     "metadata": {
      "needs_background": "light"
     },
     "output_type": "display_data"
    }
   ],
   "source": [
    "df = pd.read_csv(metadata_path(DATASET_PATH), sep='|')\n",
    "df = unify_states(df)\n",
    "df[\"sheldon\"] = df[\"state\"].apply(get_shaldon_value)\n",
    "df[\"category\"] = df[\"sheldon\"].apply(lambda grade: get_nearest_category_value(grade, categories=[\"1\",\"1-\",\"2\",\"2-\",\"3\"]))\n",
    "\n",
    "sns.histplot(df['category'].sort_values(), discrete=True )\n",
    "df"
   ]
  },
  {
   "cell_type": "code",
   "execution_count": null,
   "metadata": {},
   "outputs": [],
   "source": []
  }
 ],
 "metadata": {
  "kernelspec": {
   "display_name": "coin-wear-env",
   "language": "python",
   "name": "coin-wear-env"
  },
  "language_info": {
   "codemirror_mode": {
    "name": "ipython",
    "version": 3
   },
   "file_extension": ".py",
   "mimetype": "text/x-python",
   "name": "python",
   "nbconvert_exporter": "python",
   "pygments_lexer": "ipython3",
   "version": "3.8.9"
  },
  "orig_nbformat": 2
 },
 "nbformat": 4,
 "nbformat_minor": 2
}