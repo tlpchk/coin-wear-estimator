{
 "cells": [
  {
   "cell_type": "code",
   "execution_count": 16,
   "metadata": {},
   "outputs": [],
   "source": [
    "import os\n",
    "import pandas as pd\n",
    "from PIL import Image\n",
    "import matplotlib.pyplot as plt\n",
    "from IPython.display import clear_output\n",
    "import numpy as np\n",
    "from shutil import copyfile\n",
    "import shutil\n"
   ]
  },
  {
   "cell_type": "code",
   "execution_count": 25,
   "metadata": {},
   "outputs": [],
   "source": [
    "img_path = \"./niemczyk/img/sztandar_1930\"\n",
    "labels_path = img_path + \"/labels.csv\""
   ]
  },
  {
   "cell_type": "markdown",
   "metadata": {},
   "source": [
    "# Manual labeling"
   ]
  },
  {
   "cell_type": "code",
   "execution_count": 26,
   "metadata": {},
   "outputs": [],
   "source": [
    "def create_labels(path, csv_out):\n",
    "    labels = []\n",
    "    path = path + '/'\n",
    "    img_list = sorted(os.listdir(path))\n",
    "    \n",
    "    try:\n",
    "        df = pd.read_csv(csv_out)\n",
    "    except:\n",
    "        df = pd.DataFrame({\"name\": img_list, \"label\": None})\n",
    "\n",
    "    for i, row in df.iterrows():\n",
    "        if pd.isna(row[\"label\"]):\n",
    "            im = Image.open(path + row[\"name\"])\n",
    "            plt.figure(figsize=(10,10))\n",
    "            plt.imshow(im)\n",
    "            plt.axis('off') \n",
    "            plt.title(row[\"name\"])\n",
    "            plt.show()\n",
    "            inp = input()\n",
    "            if inp == \"\":\n",
    "                inp = -1\n",
    "            df[\"label\"][i] = inp\n",
    "            df.to_csv(csv_out, index=None)\n",
    "            clear_output(wait=True)\n",
    "      \n",
    "    return (df)"
   ]
  },
  {
   "cell_type": "code",
   "execution_count": 27,
   "metadata": {},
   "outputs": [
    {
     "data": {
      "text/html": "<div>\n<style scoped>\n    .dataframe tbody tr th:only-of-type {\n        vertical-align: middle;\n    }\n\n    .dataframe tbody tr th {\n        vertical-align: top;\n    }\n\n    .dataframe thead th {\n        text-align: right;\n    }\n</style>\n<table border=\"1\" class=\"dataframe\">\n  <thead>\n    <tr style=\"text-align: right;\">\n      <th></th>\n      <th>name</th>\n      <th>label</th>\n    </tr>\n  </thead>\n  <tbody>\n    <tr>\n      <th>0</th>\n      <td>100_1.jpg</td>\n      <td>1.0</td>\n    </tr>\n    <tr>\n      <th>1</th>\n      <td>100_2.jpg</td>\n      <td>2.0</td>\n    </tr>\n    <tr>\n      <th>2</th>\n      <td>101_1.jpg</td>\n      <td>1.0</td>\n    </tr>\n    <tr>\n      <th>3</th>\n      <td>101_2.jpg</td>\n      <td>2.0</td>\n    </tr>\n    <tr>\n      <th>4</th>\n      <td>102_1.jpg</td>\n      <td>1.0</td>\n    </tr>\n    <tr>\n      <th>...</th>\n      <td>...</td>\n      <td>...</td>\n    </tr>\n    <tr>\n      <th>1056</th>\n      <td>98_2.jpg</td>\n      <td>2.0</td>\n    </tr>\n    <tr>\n      <th>1057</th>\n      <td>99_1.jpg</td>\n      <td>1.0</td>\n    </tr>\n    <tr>\n      <th>1058</th>\n      <td>99_2.jpg</td>\n      <td>2.0</td>\n    </tr>\n    <tr>\n      <th>1059</th>\n      <td>9_1.jpg</td>\n      <td>1.0</td>\n    </tr>\n    <tr>\n      <th>1060</th>\n      <td>9_2.jpg</td>\n      <td>2.0</td>\n    </tr>\n  </tbody>\n</table>\n<p>1061 rows × 2 columns</p>\n</div>",
      "text/plain": "           name  label\n0     100_1.jpg    1.0\n1     100_2.jpg    2.0\n2     101_1.jpg    1.0\n3     101_2.jpg    2.0\n4     102_1.jpg    1.0\n...         ...    ...\n1056   98_2.jpg    2.0\n1057   99_1.jpg    1.0\n1058   99_2.jpg    2.0\n1059    9_1.jpg    1.0\n1060    9_2.jpg    2.0\n\n[1061 rows x 2 columns]"
     },
     "execution_count": 27,
     "metadata": {},
     "output_type": "execute_result"
    }
   ],
   "source": [
    "create_labels(img_path, labels_path)"
   ]
  },
  {
   "cell_type": "markdown",
   "metadata": {},
   "source": [
    "## Checking\n",
    "\n",
    "For every label directory is created - manual checking in those directories should be performed."
   ]
  },
  {
   "cell_type": "code",
   "execution_count": 31,
   "metadata": {},
   "outputs": [],
   "source": [
    "df = pd.read_csv(labels_path)\n",
    "\n",
    "for label in set(df[\"label\"]):\n",
    "    names = list(df[df[\"label\"] == label][\"name\"])\n",
    "    label_dir = img_path + \"/{}\".format(int(label))\n",
    "    if os.path.exists(label_dir):\n",
    "        shutil.rmtree(label_dir)\n",
    "    os.makedirs(label_dir)\n",
    "\n",
    "    for name in names:\n",
    "        copyfile(\"{}/{}\".format(img_path, name), \"{}/{}\".format(label_dir, name))"
   ]
  }
 ],
 "metadata": {
  "kernelspec": {
   "display_name": "Python 3.8.7 64-bit ('coin-wear-env')",
   "name": "python387jvsc74a57bd09214e9ed1261b8386bff29a139da31c318f4d999a62610e883c248e0fae4a597"
  },
  "language_info": {
   "name": "python",
   "version": ""
  },
  "orig_nbformat": 2
 },
 "nbformat": 4,
 "nbformat_minor": 2
}