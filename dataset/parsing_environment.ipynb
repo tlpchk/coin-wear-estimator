{
 "metadata": {
  "language_info": {
   "codemirror_mode": {
    "name": "ipython",
    "version": 3
   },
   "file_extension": ".py",
   "mimetype": "text/x-python",
   "name": "python",
   "nbconvert_exporter": "python",
   "pygments_lexer": "ipython3",
   "version": "3.8.7-final"
  },
  "orig_nbformat": 2,
  "kernelspec": {
   "name": "python3",
   "display_name": "Python 3.8.7 64-bit",
   "metadata": {
    "interpreter": {
     "hash": "9214e9ed1261b8386bff29a139da31c318f4d999a62610e883c248e0fae4a597"
    }
   }
  }
 },
 "nbformat": 4,
 "nbformat_minor": 2,
 "cells": [
  {
   "cell_type": "code",
   "execution_count": 1,
   "metadata": {},
   "outputs": [],
   "source": [
    "%load_ext autoreload\n",
    "%autoreload 2"
   ]
  },
  {
   "cell_type": "code",
   "execution_count": 3,
   "metadata": {},
   "outputs": [],
   "source": [
    "from NiemczykParser import NiemczykParser\n",
    "import re"
   ]
  },
  {
   "cell_type": "code",
   "execution_count": 7,
   "metadata": {},
   "outputs": [],
   "source": [
    "parser = NiemczykParser()\n",
    "df = parser.get_df(\"Sztandar 1930\")"
   ]
  },
  {
   "cell_type": "code",
   "execution_count": 16,
   "metadata": {},
   "outputs": [
    {
     "output_type": "stream",
     "name": "stdout",
     "text": [
      "2\n3\n3+\n3-\n3\n2-\n2/2+\n3+\n2-\n3+\n2-\n3+\n3+\n3+/2-\n1- PIĘKNY\n3\n3+/2-\n2-\n2\n3+\n2\n1-\n2\n1-/2+\n2-\n2+ BARDZO ŁADNY\n3\n2\n3-\n3+\n3+\n2+ ŁADNY\n3+\n3-\n3+\n3+\n3-\n2\n3+\n3+\n3+\n3+\n3+\n3+\n3+\n3+\n3\n2-\n2-\n2+\n1- PIĘKNY\n2+\n3\n3+\n3+\n2-\n3+\n2+ BARDZO ŁADNY\n2 BARDZO ŁADNY\n3-\n3+\n3+\n2+\n3+\n3+\n2-\n2+ ŁADNY\n2\n2 BARDZO ŁADNY\n1/1- PIĘKNE\n3\n1- PIĘKNE\n3\n3\n3\n3\n3+\n3+\n3\n2-\n1-\n3+\n3+\n3+\n1-\n2/2-\n2-\n3+\n2-\n3-\n2/2+\n2-/3+\n2\n2\n3\n3\n3+\n3\n3\n2\n3+\n2-\n3/3+\n3+\n3\n2\n2\n3+\n3+/2-\n3+\n3\n3+\n2\n5-\n2/2-\n3\n3-\n3+\n3+\n2/2-\n3+\n3/3+\n3+\n3+\n3+\n2+\n3+\n3/3+\n3\n3-/3\n3+/2-\n2/2+\n2-\n2\n3+\nzwykły PCGS MS62\n3\n3\n3+\n3-\n3+\n3+\n3+\n3-\n3\n2\n3\n1\n3-\n3\n2+\n3+\n3\n3\n2-/3+\n3-\n3-\n3\n3\n3\n3\n3+\n3+\n3+\n3-\n3\n3/3+\n3\n3+\n3+\n3\n3+\n3\n3+\n3-\n3\n3\n2-\n3+\n3+\n2+/1-\n2-\n3\n2\n1-\n2-\n3\n2-\n3\n3/3+\n3\n3\n2/2+\n3-\n3\n3\n2-\n3\n3\n3+\n3+\n1\n3\n3\n2-\n2\n2\n2+\n3+\n3+\n3\n3\n2-\n3\n3\n3/3-\n3+\n3\n3+\n3\n3+\n4\n3\n2-\n3\n3\n3\n3\n3+\n2-\n3+\n3+?\n3+\n4-\n2\n3\n3\n3\n3-\n2-\n2-/3\n3\n3-\ngłęboki GCN AU 50\n2-\n2-\n3\n3-\ngłęboki NGC MS 62\n2-\n2-\n2\n2-/3+\n3\n3\n2\n2-\n3\n3-\n3\n2/2+\n3\n3-\n3/3-\n4\n2+/1-\n2-\n3\n3+/2-\n3\n2\n3\n2+/1-\n2\n3+\n3+\n3+\n3-/4\n3/3-\n3-\n3\n3\n3+\n2-\n3-\n4\n3\n2-\n3\n3\n3-\n3-\n2- NGC\n2/2-\n3+\n2\n2\n3/3-\n3/3+\n3\n3\n3-\n3-\n3-\n3-\n3+\n3/3+\n3/3-\n3-\n3+\npłytki st. 2\n3\n2/2-\n3\n3+\n3/3-\n3-/4\n3+\n2\n3/3+\n2-/3+\n3\n3\n2\n2-\n2+\n2\n3\n3 +\n2 -\n2 -\n3 +\n3 +\n3+\n3+\n3+\n3+\n3+\n2-\n3\n3\n3 +\n3+\n3-\n3+\n2+\n2\n3\n2\n2\n3+\n3+\n3\n2-\n2-\n3\n2+\n3+\n3+\n3\n3/3-\n2+ -RRR-\n1-/2+ -RRR-\n3+\n3+\n3\n2-\n3\n3\n2\ngłęboki st. 2 -RR-\n2\n2\n3+\n1-/2+ RR\nIII+\nII\nIII+\nIII\nIII\nII\nII+\nII/II+\n1\nIII +\n2\n1\n3-\n2/2-\n2-/3+\n2\n2\n2- Patyna\n1-/2+\n2++\n3+\n"
     ]
    }
   ],
   "source": [
    "for title in df[\"title\"]:\n",
    "    pattern = re.compile(\"st\\..+$\")\n",
    "    search = pattern.search(title)\n",
    "    if not search:\n",
    "        # print(title)\n",
    "        continue\n",
    "    condition = search.group(0)[3:].lstrip()\n",
    "    print(condition)"
   ]
  },
  {
   "cell_type": "code",
   "execution_count": null,
   "metadata": {},
   "outputs": [],
   "source": []
  }
 ]
}