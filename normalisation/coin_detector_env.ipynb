{
 "cells": [
  {
   "cell_type": "code",
   "execution_count": null,
   "metadata": {},
   "outputs": [],
   "source": [
    "%load_ext autoreload\n",
    "%autoreload 2"
   ]
  },
  {
   "cell_type": "code",
   "execution_count": null,
   "metadata": {},
   "outputs": [],
   "source": [
    "import sys\n",
    "sys.path.append('../dataset')\n",
    "\n",
    "import numpy as np\n",
    "import cv2\n",
    "from matplotlib import pyplot as plt\n",
    "import itertools\n",
    "from skimage.transform import hough_ellipse\n",
    "from skimage.draw import ellipse_perimeter\n",
    "import numpy as np\n",
    "from coin_detector import crop_coin\n",
    "import pandas as pd\n",
    "from utils import get_filename\n",
    "from PIL import Image\n",
    "from IPython.display import clear_output"
   ]
  },
  {
   "cell_type": "markdown",
   "metadata": {},
   "source": [
    "# Circles"
   ]
  },
  {
   "cell_type": "code",
   "execution_count": null,
   "metadata": {},
   "outputs": [],
   "source": [
    "# name = \"niemczyk\"\n",
    "name = \"marciniak\"\n",
    "keyword = \"Sztandar 1930\"\n",
    "\n",
    "root = \"../dataset/{}/img/sztandar_1930\".format(name, get_filename(keyword))"
   ]
  },
  {
   "cell_type": "code",
   "execution_count": null,
   "metadata": {},
   "outputs": [],
   "source": [
    "df = pd.read_csv(root + \"/labels.csv\")\n",
    "for name in df[df[\"label\"] > 0][\"name\"]:\n",
    "    try:\n",
    "        img = cv2.imread(root + \"/\" + name)\n",
    "        crop = crop_coin(img)\n",
    "        cv2.imwrite(root + \"/cropped/\" + name, crop)\n",
    "    except:\n",
    "        print('error')\n",
    "        pass"
   ]
  },
  {
   "cell_type": "markdown",
   "metadata": {},
   "source": [
    "## Investigating of results"
   ]
  },
  {
   "cell_type": "markdown",
   "metadata": {},
   "source": [
    "### False circle"
   ]
  },
  {
   "cell_type": "code",
   "execution_count": null,
   "metadata": {},
   "outputs": [],
   "source": [
    "name = './124_1.jpg'\n",
    "\n",
    "fig, (ax1, ax2) = plt.subplots(1,2, figsize=(16, 8))\n",
    "\n",
    "img_orig = cv2.imread(root + \"/\" + name)\n",
    "im_1 = crop_coin(img_orig)\n",
    "im_2 = im_1[10:, 10:]\n",
    "im_2 = crop_coin(im_2)\n",
    "\n",
    "ax1.imshow(im_1)\n",
    "ax2.imshow(im_2)\n",
    "plt.show()"
   ]
  },
  {
   "cell_type": "markdown",
   "metadata": {},
   "source": [
    "### Individual mask"
   ]
  },
  {
   "cell_type": "code",
   "execution_count": null,
   "metadata": {},
   "outputs": [],
   "source": [
    "name = './1_2.jpg'\n",
    "\n",
    "fig, ax = plt.subplots(figsize=(8, 8))\n",
    "\n",
    "im = cv2.imread(root + \"/\" + name)\n",
    "im = crop_coin(im)\n",
    "\n",
    "ax.imshow(cv2.cvtColor(im, cv2.COLOR_BGR2RGB))\n",
    "plt.show()"
   ]
  },
  {
   "cell_type": "markdown",
   "metadata": {},
   "source": [
    "## Fixing"
   ]
  },
  {
   "cell_type": "code",
   "execution_count": null,
   "metadata": {},
   "outputs": [],
   "source": [
    "def validate_masks(path, csv_out):\n",
    "    labels = []\n",
    "    path = path + '/'\n",
    "    img_list = sorted(os.listdir(path))\n",
    "    \n",
    "    try:\n",
    "        df = pd.read_csv(csv_out)\n",
    "    except:\n",
    "        df = pd.DataFrame({\"name\": img_list, \"valid\": None})\n",
    "\n",
    "    for i, row in df.iterrows():\n",
    "        if pd.isna(row[\"valid\"]):\n",
    "            im = Image.open(path + row[\"name\"])\n",
    "            plt.figure(figsize=(8,8))\n",
    "            plt.imshow(im)\n",
    "            plt.axis('off') \n",
    "            plt.title(row[\"name\"])\n",
    "            plt.show()\n",
    "            inp = input()\n",
    "            if inp == \"\":\n",
    "                inp = 1\n",
    "            else:\n",
    "                inp = 0\n",
    "\n",
    "            df[\"valid\"][i] = inp\n",
    "            df.to_csv(csv_out, index=None)\n",
    "            clear_output(wait=True)\n",
    "      \n",
    "    return (df)"
   ]
  },
  {
   "cell_type": "code",
   "execution_count": null,
   "metadata": {},
   "outputs": [],
   "source": [
    "df = validate_masks(root + \"/cropped\", root + \"/cropped/\" + \"valid.csv\")\n",
    "df[df[\"valid\"] != 0] "
   ]
  },
  {
   "cell_type": "markdown",
   "metadata": {},
   "source": [
    "# Ellipses"
   ]
  },
  {
   "cell_type": "code",
   "execution_count": null,
   "metadata": {},
   "outputs": [],
   "source": [
    "name = './339_2.jpg'\n",
    "height_img_ds = 500\n",
    "\n",
    "img_orig = cv2.imread(name)\n",
    "\n",
    "ds_ratio = height_img_ds/img_orig.shape[0] \n",
    "img_ds = cv2.resize(img_orig, None, fx=ds_ratio, fy=ds_ratio, interpolation=cv2.INTER_AREA) # downsampling\n",
    "\n",
    "gray = cv2.cvtColor(img_ds, cv2.COLOR_BGR2GRAY)\n",
    "gray = cv2.GaussianBlur(gray, (3, 3), 0)\n",
    "\n",
    "thresh = cv2.Canny(gray, 50, 100)\n",
    "kernel = cv2.getStructuringElement(cv2.MORPH_RECT, (11, 11))\n",
    "closed = cv2.morphologyEx(thresh, cv2.MORPH_CLOSE, kernel)\n",
    "\n",
    "_, th = cv2.threshold(closed, 1, 1, cv2.THRESH_BINARY)\n",
    "contours, _ = cv2.findContours(th, cv2.RETR_CCOMP, cv2.CHAIN_APPROX_SIMPLE)\n",
    "max_contour = max(contours, key=cv2.contourArea)\n",
    "img_max_contour = cv2.drawContours(np.zeros(gray.shape), max_contour, -1, (255,255,255), 1)\n",
    "\n",
    "elipses = hough_ellipse(img_max_contour, accuracy=30, threshold=100, min_size=int(0.4 * closed.shape[0]))\n",
    "elipses.sort(order='accumulator')\n",
    "best_ellipse = list(elipses[-1])\n",
    "(yc, xc, a, b), orientation = [int(round(x/ds_ratio)) for x in best_ellipse[1:5]], best_ellipse[5]\n",
    "cy, cx = ellipse_perimeter(yc, xc, a, b, orientation)\n",
    "img_orig[cy, cx] = (250, 0, 0)\n",
    "\n",
    "fig, ax = plt.subplots( figsize=(8, 8))\n",
    "ax.imshow(img_orig)\n",
    "plt.show()"
   ]
  }
 ],
 "metadata": {
  "kernelspec": {
   "display_name": "Python 3.8.5 64-bit ('coin-wear-env')",
   "name": "python385jvsc74a57bd019e08030b3d22b00456792276dffe928e98d3ae078f7291a39fd96419ad75097"
  },
  "language_info": {
   "codemirror_mode": {
    "name": "ipython",
    "version": 3
   },
   "file_extension": ".py",
   "mimetype": "text/x-python",
   "name": "python",
   "nbconvert_exporter": "python",
   "pygments_lexer": "ipython3",
   "version": "3.8.5"
  },
  "metadata": {
   "interpreter": {
    "hash": "767d51c1340bd893661ea55ea3124f6de3c7a262a8b4abca0554b478b1e2ff90"
   }
  },
  "orig_nbformat": 2
 },
 "nbformat": 4,
 "nbformat_minor": 2
}